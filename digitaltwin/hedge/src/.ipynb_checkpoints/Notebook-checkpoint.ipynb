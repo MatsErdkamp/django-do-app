{
 "cells": [
  {
   "cell_type": "code",
   "execution_count": 29,
   "id": "f64d07f1",
   "metadata": {},
   "outputs": [],
   "source": [
    "from generate_data_with_hedge import generate_data_with_hedge"
   ]
  },
  {
   "cell_type": "code",
   "execution_count": 42,
   "id": "c8b01620",
   "metadata": {},
   "outputs": [
    {
     "ename": "SyntaxError",
     "evalue": "(unicode error) 'unicodeescape' codec can't decode bytes in position 2-3: truncated \\UXXXXXXXX escape (2723369020.py, line 5)",
     "output_type": "error",
     "traceback": [
      "\u001b[1;36m  Cell \u001b[1;32mIn[42], line 5\u001b[1;36m\u001b[0m\n\u001b[1;33m    PARENT_FOLDER_PATH = \"C:\\Users\\MatsE\\Documents\\Industrial Design\\Digital Twins\\django-do-app\\digitaltwin\\hedge\"\u001b[0m\n\u001b[1;37m                                                                                                                   ^\u001b[0m\n\u001b[1;31mSyntaxError\u001b[0m\u001b[1;31m:\u001b[0m (unicode error) 'unicodeescape' codec can't decode bytes in position 2-3: truncated \\UXXXXXXXX escape\n"
     ]
    }
   ],
   "source": [
    "\n",
    "# C:\\Users\\MatsE\\Documents\\Industrial Design\\Digital Twins\\django-do-app\\digitaltwin\\hedge\n",
    "import os\n",
    "\n",
    "\n",
    "PARENT_FOLDER_PATH = \"C:\\Users\\MatsE\\Documents\\Industrial Design\\Digital Twins\\django-do-app\\digitaltwin\\hedge\"\n",
    "\n",
    "\n",
    "\n",
    "# Change the working directory to the parent directory of the current file\n",
    "os.chdir(r\"{PARENT_FOLDER_PATH}\")\n",
    "\n",
    "# Optionally, print the new current working directory to verify the change\n",
    "print(\"New current working directory:\", os.getcwd())"
   ]
  },
  {
   "cell_type": "code",
   "execution_count": 33,
   "id": "302ee78e",
   "metadata": {
    "scrolled": true
   },
   "outputs": [
    {
     "ename": "ImportError",
     "evalue": "cannot import name 'prep' from 'prepare_data' (C:\\Users\\MatsE\\Documents\\Industrial Design\\Digital Twins\\django-do-app\\digitaltwin\\hedge\\src\\prepare_data.py)",
     "output_type": "error",
     "traceback": [
      "\u001b[1;31m---------------------------------------------------------------------------\u001b[0m",
      "\u001b[1;31mImportError\u001b[0m                               Traceback (most recent call last)",
      "Cell \u001b[1;32mIn[33], line 1\u001b[0m\n\u001b[1;32m----> 1\u001b[0m \u001b[38;5;28;01mfrom\u001b[39;00m \u001b[38;5;21;01mprepare_data\u001b[39;00m \u001b[38;5;28;01mimport\u001b[39;00m prep\n\u001b[0;32m      3\u001b[0m prep()\n",
      "\u001b[1;31mImportError\u001b[0m: cannot import name 'prep' from 'prepare_data' (C:\\Users\\MatsE\\Documents\\Industrial Design\\Digital Twins\\django-do-app\\digitaltwin\\hedge\\src\\prepare_data.py)"
     ]
    }
   ],
   "source": [
    "from prepare_data import prep\n",
    "\n",
    "prep()"
   ]
  },
  {
   "cell_type": "code",
   "execution_count": 34,
   "id": "0013efba",
   "metadata": {},
   "outputs": [
    {
     "ename": "FileNotFoundError",
     "evalue": "[Errno 2] No such file or directory: 'config_parameters/hedge_config.yaml'",
     "output_type": "error",
     "traceback": [
      "\u001b[1;31m---------------------------------------------------------------------------\u001b[0m",
      "\u001b[1;31mFileNotFoundError\u001b[0m                         Traceback (most recent call last)",
      "Cell \u001b[1;32mIn[34], line 1\u001b[0m\n\u001b[1;32m----> 1\u001b[0m \u001b[43mgenerate_data_with_hedge\u001b[49m\u001b[43m(\u001b[49m\u001b[43m)\u001b[49m\n",
      "File \u001b[1;32m~\\Documents\\Industrial Design\\Digital Twins\\django-do-app\\digitaltwin\\hedge\\src\\generate_data_with_hedge.py:5\u001b[0m, in \u001b[0;36mgenerate_data_with_hedge\u001b[1;34m(plotting)\u001b[0m\n\u001b[0;32m      4\u001b[0m \u001b[38;5;28;01mdef\u001b[39;00m \u001b[38;5;21mgenerate_data_with_hedge\u001b[39m(plotting\u001b[38;5;241m=\u001b[39m\u001b[38;5;28;01mTrue\u001b[39;00m):\n\u001b[1;32m----> 5\u001b[0m     generator \u001b[38;5;241m=\u001b[39m \u001b[43mHEDGE\u001b[49m\u001b[43m(\u001b[49m\n\u001b[0;32m      6\u001b[0m \u001b[43m        \u001b[49m\u001b[43mn_homes\u001b[49m\u001b[38;5;241;43m=\u001b[39;49m\u001b[38;5;241;43m10\u001b[39;49m\u001b[43m,\u001b[49m\n\u001b[0;32m      7\u001b[0m \u001b[43m        \u001b[49m\u001b[43mn_consecutive_days\u001b[49m\u001b[38;5;241;43m=\u001b[39;49m\u001b[38;5;241;43m2\u001b[39;49m\u001b[43m,\u001b[49m\n\u001b[0;32m      8\u001b[0m \u001b[43m        \u001b[49m\u001b[43mbrackets_definition\u001b[49m\u001b[38;5;241;43m=\u001b[39;49m\u001b[38;5;124;43m\"\u001b[39;49m\u001b[38;5;124;43mpercentile\u001b[39;49m\u001b[38;5;124;43m\"\u001b[39;49m\u001b[43m,\u001b[49m\n\u001b[0;32m      9\u001b[0m \u001b[43m    \u001b[49m\u001b[43m)\u001b[49m\n\u001b[0;32m     11\u001b[0m     \u001b[38;5;28;01mfor\u001b[39;00m _ \u001b[38;5;129;01min\u001b[39;00m \u001b[38;5;28mrange\u001b[39m(\u001b[38;5;241m10\u001b[39m):\n\u001b[0;32m     12\u001b[0m         day \u001b[38;5;241m=\u001b[39m generator\u001b[38;5;241m.\u001b[39mmake_next_day(plotting\u001b[38;5;241m=\u001b[39mplotting)\n",
      "File \u001b[1;32m~\\Documents\\Industrial Design\\Digital Twins\\django-do-app\\digitaltwin\\hedge\\src\\hedge.py:81\u001b[0m, in \u001b[0;36mHEDGE.__init__\u001b[1;34m(self, n_homes, n_steps, factors0, clusters0, prm, other_prm, n_consecutive_days, brackets_definition, ext)\u001b[0m\n\u001b[0;32m     79\u001b[0m \u001b[38;5;28mself\u001b[39m\u001b[38;5;241m.\u001b[39mhomes \u001b[38;5;241m=\u001b[39m \u001b[38;5;28mrange\u001b[39m(\u001b[38;5;28mself\u001b[39m\u001b[38;5;241m.\u001b[39mn_homes)\n\u001b[0;32m     80\u001b[0m \u001b[38;5;28mself\u001b[39m\u001b[38;5;241m.\u001b[39mit_plot \u001b[38;5;241m=\u001b[39m \u001b[38;5;241m0\u001b[39m\n\u001b[1;32m---> 81\u001b[0m \u001b[38;5;28;43mself\u001b[39;49m\u001b[38;5;241;43m.\u001b[39;49m\u001b[43m_load_input_data\u001b[49m\u001b[43m(\u001b[49m\u001b[43mprm\u001b[49m\u001b[43m,\u001b[49m\u001b[43m \u001b[49m\u001b[43mother_prm\u001b[49m\u001b[43m,\u001b[49m\u001b[43m \u001b[49m\u001b[43mfactors0\u001b[49m\u001b[43m,\u001b[49m\u001b[43m \u001b[49m\u001b[43mclusters0\u001b[49m\u001b[43m,\u001b[49m\u001b[43m \u001b[49m\u001b[43mbrackets_definition\u001b[49m\u001b[43m)\u001b[49m\n",
      "File \u001b[1;32m~\\Documents\\Industrial Design\\Digital Twins\\django-do-app\\digitaltwin\\hedge\\src\\hedge.py:86\u001b[0m, in \u001b[0;36mHEDGE._load_input_data\u001b[1;34m(self, prm, other_prm, factors0, clusters0, brackets_definition)\u001b[0m\n\u001b[0;32m     83\u001b[0m \u001b[38;5;28;01mdef\u001b[39;00m \u001b[38;5;21m_load_input_data\u001b[39m(\n\u001b[0;32m     84\u001b[0m     \u001b[38;5;28mself\u001b[39m, prm, other_prm, factors0, clusters0, brackets_definition\n\u001b[0;32m     85\u001b[0m ):\n\u001b[1;32m---> 86\u001b[0m     prm \u001b[38;5;241m=\u001b[39m \u001b[38;5;28;43mself\u001b[39;49m\u001b[38;5;241;43m.\u001b[39;49m\u001b[43m_load_inputs\u001b[49m\u001b[43m(\u001b[49m\u001b[43mprm\u001b[49m\u001b[43m,\u001b[49m\u001b[43m \u001b[49m\u001b[43mbrackets_definition\u001b[49m\u001b[43m)\u001b[49m\n\u001b[0;32m     87\u001b[0m     prm \u001b[38;5;241m=\u001b[39m \u001b[38;5;28mself\u001b[39m\u001b[38;5;241m.\u001b[39m_replace_car_prm(prm, other_prm)\n\u001b[0;32m     88\u001b[0m     \u001b[38;5;28mself\u001b[39m\u001b[38;5;241m.\u001b[39m_init_factors(factors0, prm)\n",
      "File \u001b[1;32m~\\Documents\\Industrial Design\\Digital Twins\\django-do-app\\digitaltwin\\hedge\\src\\hedge.py:190\u001b[0m, in \u001b[0;36mHEDGE._load_inputs\u001b[1;34m(self, prm, brackets_definition)\u001b[0m\n\u001b[0;32m    187\u001b[0m \u001b[38;5;28;01mdef\u001b[39;00m \u001b[38;5;21m_load_inputs\u001b[39m(\u001b[38;5;28mself\u001b[39m, prm, brackets_definition):\n\u001b[0;32m    188\u001b[0m     \u001b[38;5;66;03m# load inputs\u001b[39;00m\n\u001b[0;32m    189\u001b[0m     \u001b[38;5;28;01mif\u001b[39;00m prm \u001b[38;5;129;01mis\u001b[39;00m \u001b[38;5;28;01mNone\u001b[39;00m:\n\u001b[1;32m--> 190\u001b[0m         \u001b[38;5;28;01mwith\u001b[39;00m \u001b[38;5;28;43mopen\u001b[39;49m\u001b[43m(\u001b[49m\u001b[38;5;124;43m\"\u001b[39;49m\u001b[38;5;124;43mconfig_parameters/hedge_config.yaml\u001b[39;49m\u001b[38;5;124;43m\"\u001b[39;49m\u001b[43m,\u001b[49m\u001b[43m \u001b[49m\u001b[38;5;124;43m\"\u001b[39;49m\u001b[38;5;124;43mrb\u001b[39;49m\u001b[38;5;124;43m\"\u001b[39;49m\u001b[43m)\u001b[49m \u001b[38;5;28;01mas\u001b[39;00m file:\n\u001b[0;32m    191\u001b[0m             prm \u001b[38;5;241m=\u001b[39m yaml\u001b[38;5;241m.\u001b[39msafe_load(file)\n\u001b[0;32m    192\u001b[0m         \u001b[38;5;28;01mwith\u001b[39;00m \u001b[38;5;28mopen\u001b[39m(\u001b[38;5;124m\"\u001b[39m\u001b[38;5;124mconfig_parameters/fixed_parameters.yaml\u001b[39m\u001b[38;5;124m\"\u001b[39m, \u001b[38;5;124m\"\u001b[39m\u001b[38;5;124mrb\u001b[39m\u001b[38;5;124m\"\u001b[39m) \u001b[38;5;28;01mas\u001b[39;00m file:\n",
      "\u001b[1;31mFileNotFoundError\u001b[0m: [Errno 2] No such file or directory: 'config_parameters/hedge_config.yaml'"
     ]
    }
   ],
   "source": [
    "generate_data_with_hedge()"
   ]
  },
  {
   "cell_type": "code",
   "execution_count": null,
   "id": "968715d7",
   "metadata": {},
   "outputs": [],
   "source": []
  }
 ],
 "metadata": {
  "kernelspec": {
   "display_name": "Python 3 (ipykernel)",
   "language": "python",
   "name": "python3"
  },
  "language_info": {
   "codemirror_mode": {
    "name": "ipython",
    "version": 3
   },
   "file_extension": ".py",
   "mimetype": "text/x-python",
   "name": "python",
   "nbconvert_exporter": "python",
   "pygments_lexer": "ipython3",
   "version": "3.9.13"
  }
 },
 "nbformat": 4,
 "nbformat_minor": 5
}
